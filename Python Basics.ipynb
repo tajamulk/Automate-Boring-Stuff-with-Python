{
 "cells": [
  {
   "cell_type": "markdown",
   "id": "10641221",
   "metadata": {},
   "source": [
    "# Automate Boring Stuff with Python"
   ]
  },
  {
   "cell_type": "markdown",
   "id": "f4144606",
   "metadata": {},
   "source": [
    "## I. Basics"
   ]
  },
  {
   "cell_type": "markdown",
   "id": "b403eb0a",
   "metadata": {},
   "source": [
    "### Lesson 1 : Getting Help\n",
    "* Explain what you are trying to do, not just what you did.\n",
    "* If you get an error message, specify the point at which the error happens. (Including the line number.)\n",
    "* Explain what you’ve already tried to do to solve your problem.\n",
    "* List the version of Python you’re using."
   ]
  },
  {
   "cell_type": "markdown",
   "id": "d8ff3926",
   "metadata": {},
   "source": [
    "### Lesson 2: Getting Started\n",
    "\n",
    "* An instruction that evaluates to a single value is an expression. An instruction that doesn't is a statement.\n",
    "* IDE is an editor. Jupyter is specifically for Data science and scientific computing while VS code is for software development. \n",
    "* The interactive shell window has the >>> prompt.\n",
    "* Data types: \n",
    "    * Numeric: int, float, complex\n",
    "    * Character: String\n",
    "    * Bool\n",
    "* Strings hold text and begin and end with quotes: ‘Hello world!'\n",
    "* Values can be stored in variables: spam = 42\n",
    "* Variables can be used anywhere values can be used in expressions: spam + 1"
   ]
  },
  {
   "cell_type": "code",
   "execution_count": 13,
   "id": "f06f188a",
   "metadata": {},
   "outputs": [
    {
     "data": {
      "text/plain": [
       "4"
      ]
     },
     "execution_count": 13,
     "metadata": {},
     "output_type": "execute_result"
    }
   ],
   "source": [
    "2 + 2 #This is an Expression"
   ]
  },
  {
   "cell_type": "code",
   "execution_count": 16,
   "id": "df41ec83",
   "metadata": {},
   "outputs": [],
   "source": [
    "X = 2 + 2 # This a Statement (usually to create variables)"
   ]
  },
  {
   "cell_type": "code",
   "execution_count": 8,
   "id": "e09636ff",
   "metadata": {},
   "outputs": [
    {
     "data": {
      "text/plain": [
       "20"
      ]
     },
     "execution_count": 8,
     "metadata": {},
     "output_type": "execute_result"
    }
   ],
   "source": [
    "# Operator Predence Concept\n",
    "\n",
    "(2 + 2) * 5 # BODMAS"
   ]
  },
  {
   "cell_type": "code",
   "execution_count": 19,
   "id": "e6e78436",
   "metadata": {},
   "outputs": [
    {
     "data": {
      "text/plain": [
       "3"
      ]
     },
     "execution_count": 19,
     "metadata": {},
     "output_type": "execute_result"
    }
   ],
   "source": [
    "# Variable always keeps on Updating\n",
    "\n",
    "x = 2  #Old value\n",
    "x = 3  #New value\n",
    "x"
   ]
  },
  {
   "cell_type": "markdown",
   "id": "b67b58ba",
   "metadata": {},
   "source": [
    "### Lesson 3: Writing First Program\n",
    "\n",
    "* The execution starts at the top and moves down.\n",
    "* Comments begin with a # character and are ignored by Python; they are notes & reminders for the programmer.\n",
    "* Functions are like mini-programs in your program.\n",
    "* The print() function displays the value passed to it.\n",
    "* The input() function lets users type in a value. (String by Default)\n",
    "* The len() function takes a string value and returns an integer value of the string's length.\n",
    "* The int(), str(), and float() functions can be used to convert values' data type."
   ]
  },
  {
   "cell_type": "code",
   "execution_count": 36,
   "id": "e1b8b8f7",
   "metadata": {},
   "outputs": [
    {
     "name": "stdout",
     "output_type": "stream",
     "text": [
      "Hey Buddy, What is your name?\n",
      "Tajamul\n",
      "What is your age?\n",
      "27\n",
      "Nice to meet you Tajamul\n",
      "Your name has 7 letters\n",
      "You will be 28 on your next birthday, Cheers!\n"
     ]
    }
   ],
   "source": [
    "print('Hey Buddy, What is your name?')\n",
    "myname = input()\n",
    "print('What is your age?')\n",
    "myage = int(input())\n",
    "lenname = len(myname)\n",
    "print('Nice to meet you', myname)\n",
    "print('Your name has', lenname, 'letters')\n",
    "print('You will be', myage + 1, 'on your next birthday, Cheers!')"
   ]
  },
  {
   "cell_type": "markdown",
   "id": "bad853a0",
   "metadata": {},
   "source": [
    "## II. Flow Control"
   ]
  },
  {
   "cell_type": "markdown",
   "id": "5a8a6c2f",
   "metadata": {},
   "source": [
    "*Flow Control controls the order of execution of statements based on Conditions*\n",
    "\n",
    "Three Types:\n",
    "  * If Else, Elif\n",
    "  * While Loops\n",
    "  * For Loop\n",
    "  \n",
    " Flow Control involves three things\n",
    " \n",
    "  * Boolean Value\n",
    "  * Comparison Operators\n",
    "  * Boolean or Logical Operators: *are used to evaluate boolean values or expressions.*"
   ]
  },
  {
   "cell_type": "markdown",
   "id": "5cd8a938",
   "metadata": {},
   "source": [
    "### Lesson 4: How Flow Control Works\n",
    "\n",
    "* The Boolean data type has only two values: True and False (both beginning with capital letters).\n",
    "* Comparison operators compare two values and evaluate to a Boolean value: ==, !=, <, >, <=, >=\n",
    "* == is a comparison operator, while = is the assignment operator for variables.\n",
    "* Logical or Boolean operators (and, or, not) also evaluate to Boolean values."
   ]
  },
  {
   "cell_type": "code",
   "execution_count": 41,
   "id": "e45373dc",
   "metadata": {},
   "outputs": [
    {
     "data": {
      "text/plain": [
       "True"
      ]
     },
     "execution_count": 41,
     "metadata": {},
     "output_type": "execute_result"
    }
   ],
   "source": [
    "True and True # Only True Condition for and"
   ]
  },
  {
   "cell_type": "code",
   "execution_count": 50,
   "id": "d3e18f17",
   "metadata": {},
   "outputs": [
    {
     "name": "stdout",
     "output_type": "stream",
     "text": [
      "True\n",
      "True\n",
      "True\n"
     ]
    }
   ],
   "source": [
    "print(True or True) # True Condition for or\n",
    "print(False or True)\n",
    "print(True or False)"
   ]
  },
  {
   "cell_type": "code",
   "execution_count": 54,
   "id": "728bbb4f",
   "metadata": {},
   "outputs": [
    {
     "name": "stdout",
     "output_type": "stream",
     "text": [
      "1\n"
     ]
    },
    {
     "data": {
      "text/plain": [
       "False"
      ]
     },
     "execution_count": 54,
     "metadata": {},
     "output_type": "execute_result"
    }
   ],
   "source": [
    "x = 1   # Here = is assignment operator\n",
    "print(x)\n",
    "2 == 1 # Here == is comparison operation"
   ]
  },
  {
   "cell_type": "code",
   "execution_count": 61,
   "id": "e07387a1",
   "metadata": {},
   "outputs": [
    {
     "data": {
      "text/plain": [
       "False"
      ]
     },
     "execution_count": 61,
     "metadata": {},
     "output_type": "execute_result"
    }
   ],
   "source": [
    "# not is opposite \n",
    "\n",
    "not 5 == 5"
   ]
  },
  {
   "cell_type": "markdown",
   "id": "4fd50f1c",
   "metadata": {},
   "source": [
    "### Lesson 5 : If Else, Elif Else, Truthy Concept\n",
    "\n",
    "* An if statement can be used to conditionally execute code, depending on whether the \"if\" statement's condition is True or False.\n",
    "* An elif (that is, \"else if\") statement can follow an if statement. Its block executes if its condition is True and all the previous conditions have been False.\n",
    "* An else statement comes at the end. Its block is executed if all of the previous conditions have been False.\n",
    "* The values 0 (integer), 0.0 (float), and ‘‘ (the empty string) are considered to be \"falsey\" values. When used in conditions they are considered False. You can always see for yourself which values are truthy or falsey by passing them to the bool() function."
   ]
  },
  {
   "cell_type": "code",
   "execution_count": 96,
   "id": "cba4fd72",
   "metadata": {},
   "outputs": [
    {
     "name": "stdout",
     "output_type": "stream",
     "text": [
      "uca\n",
      "Blocked\n"
     ]
    }
   ],
   "source": [
    "#if else Program - True or False\n",
    "\n",
    "password = 'ucan'\n",
    "\n",
    "'Hi, please enter password'\n",
    "\n",
    "yourpassword = input()\n",
    "\n",
    "if yourpassword == password:\n",
    "    print('Access Granted')\n",
    "else:\n",
    "    print('Blocked')"
   ]
  },
  {
   "cell_type": "code",
   "execution_count": 83,
   "id": "c396f79f",
   "metadata": {},
   "outputs": [
    {
     "name": "stdout",
     "output_type": "stream",
     "text": [
      "uca\n",
      "Almost there\n"
     ]
    }
   ],
   "source": [
    "#if elif else Program - Provides the first True Result (Order Matters)\n",
    "\n",
    "password = 'ucan'\n",
    "\n",
    "'Hi, please enter password'\n",
    "\n",
    "yourpassword = input()\n",
    "\n",
    "if yourpassword == password:\n",
    "    print('Access Granted')\n",
    "elif yourpassword == 'uca':\n",
    "    print('Almost there')\n",
    "else:\n",
    "    print('Blocked') "
   ]
  },
  {
   "cell_type": "markdown",
   "id": "59f50664",
   "metadata": {},
   "source": [
    "The concepts of truthy and falsy are fundamental for control flow and decision-making within programs\n",
    "\n",
    "**Truthy Values**\n",
    "\n",
    "* Any non-zero numeric value (e.g., 1, 2.5, -3.14).\n",
    "* Non-empty sequences or collections (e.g., lists, tuples, sets, dictionaries).\n",
    "* Non-empty strings (e.g., 'hello').\n",
    "* Any object that is not explicitly defined as falsey.\n",
    "\n",
    "**Falsy Values**\n",
    "\n",
    "* The numerical value 0 (integer or float).\n",
    "* Empty sequences or collections (e.g., [], (), {}, '').\n",
    "* The special value None.\n",
    "* Boolean value False itself."
   ]
  },
  {
   "cell_type": "code",
   "execution_count": 100,
   "id": "e298e060",
   "metadata": {},
   "outputs": [
    {
     "name": "stdout",
     "output_type": "stream",
     "text": [
      "False\n",
      "True\n",
      "False\n",
      "True\n"
     ]
    }
   ],
   "source": [
    "# Truthy and Falsy Concept\n",
    "\n",
    "print(bool(0))  # Falsy\n",
    "print(bool(101))   # Truthy   \n",
    "\n",
    "print(bool(\"\"))  # Falsy\n",
    "print(bool(\"abc\"))  # Truthy"
   ]
  },
  {
   "cell_type": "markdown",
   "id": "a41f6252",
   "metadata": {},
   "source": [
    "### Lesson 6 : While Loops\n",
    "\n",
    "*while loop is a control flow statement which excutes the code in loop till the condition is True*\n",
    "\n",
    "* While loop is usually condition based\n",
    "* You can press ctrl-c to interrupt an infinite loop. This hotkey stops Python programs.\n",
    "* A \"break\" statement causes the execution to immediately leave the loop, without re-check the condition.\n",
    "* A \"continue\" statement causes the execution to immediate jump back to the start of the loop and re-check the condition."
   ]
  },
  {
   "cell_type": "code",
   "execution_count": 2,
   "id": "7351d5b6",
   "metadata": {},
   "outputs": [
    {
     "name": "stdout",
     "output_type": "stream",
     "text": [
      "0\n",
      "1\n",
      "2\n",
      "3\n",
      "4\n",
      "5\n",
      "6\n",
      "7\n",
      "8\n",
      "9\n",
      "10\n"
     ]
    }
   ],
   "source": [
    "#Simple While Loop\n",
    "x = 0\n",
    "while x<=10:\n",
    "    print(x)\n",
    "    x+=1"
   ]
  },
  {
   "cell_type": "code",
   "execution_count": 23,
   "id": "3b9c5d86",
   "metadata": {},
   "outputs": [
    {
     "name": "stdout",
     "output_type": "stream",
     "text": [
      "1\n",
      "2\n",
      "3\n",
      "4\n",
      "5\n",
      "6\n",
      "7\n",
      "8\n",
      "9\n",
      "10\n"
     ]
    }
   ],
   "source": [
    "# Break\n",
    "\n",
    "x = 0\n",
    "while True:\n",
    "    x += 1\n",
    "    print(x)\n",
    "    if x == 10:\n",
    "        break"
   ]
  },
  {
   "cell_type": "code",
   "execution_count": 28,
   "id": "5aa7916f",
   "metadata": {},
   "outputs": [
    {
     "name": "stdout",
     "output_type": "stream",
     "text": [
      "1\n",
      "2\n",
      "4\n",
      "5\n",
      "6\n"
     ]
    }
   ],
   "source": [
    "# Continue\n",
    "x = 0\n",
    "while x <= 5:\n",
    "    x+=1\n",
    "    if x == 3: # 3 is skipped out of loop\n",
    "        continue\n",
    "    print(x)"
   ]
  },
  {
   "cell_type": "markdown",
   "id": "bd70eede",
   "metadata": {},
   "source": [
    "### Lesson 7 : For Loop\n",
    "\n",
    "*For loop is a control flow statement which excutes the code in loop for fixed number of times*\n",
    "\n",
    "* A for loop will loop a specific number of times.\n",
    "* The range() function can be called with one, two, or three arguments.\n",
    "* The break and continue statements can be used in for loops just like they're used in while loops."
   ]
  },
  {
   "cell_type": "code",
   "execution_count": 34,
   "id": "fc1903b9",
   "metadata": {},
   "outputs": [
    {
     "name": "stdout",
     "output_type": "stream",
     "text": [
      "1\n",
      "3\n",
      "5\n",
      "7\n",
      "9\n"
     ]
    }
   ],
   "source": [
    "# for loop \n",
    "\n",
    "for i in range(1,10,2):\n",
    "    print(i)"
   ]
  },
  {
   "cell_type": "markdown",
   "id": "a9738bb3",
   "metadata": {},
   "source": [
    "## III. Functions"
   ]
  },
  {
   "cell_type": "markdown",
   "id": "bc5d9f8d",
   "metadata": {},
   "source": [
    "### Lesson 8 : Python Built in Functions\n",
    "\n",
    "* You can import modules and get access to new functions.\n",
    "* The modules that come with Python are called the standard library, but you can also install third-party modules using the pip tool.\n",
    "* The sys.exit() function will immediately quit your program."
   ]
  },
  {
   "cell_type": "code",
   "execution_count": 56,
   "id": "11b682b8",
   "metadata": {},
   "outputs": [],
   "source": [
    "# Importing modules\n",
    "\n",
    "# ! pip install pandas -- for installing modules\n",
    "\n",
    "import math\n",
    "import pandas\n",
    "import sys\n",
    "import os\n",
    "import warnings\n",
    "warnings.filterwarnings(\"ignore\")"
   ]
  },
  {
   "cell_type": "code",
   "execution_count": 53,
   "id": "f8d20605",
   "metadata": {},
   "outputs": [
    {
     "name": "stdout",
     "output_type": "stream",
     "text": [
      "5\n"
     ]
    },
    {
     "ename": "SystemExit",
     "evalue": "",
     "output_type": "error",
     "traceback": [
      "An exception has occurred, use %tb to see the full traceback.\n",
      "\u001b[0;31mSystemExit\u001b[0m\n"
     ]
    }
   ],
   "source": [
    "# sys.exit()\n",
    "\n",
    "print(5)\n",
    "sys.exit() # Execution stops\n",
    "print(7)"
   ]
  },
  {
   "cell_type": "markdown",
   "id": "e4a8c10c",
   "metadata": {},
   "source": [
    "### Lesson 9 : Writing your own Functions\n",
    "\n",
    "* Functions are like a mini-program inside your program.\n",
    "* The main point of functions is to get rid of duplicate code.\n",
    "* The def statement defines a function.\n",
    "* The input to functions are called arguments. The output is called the return value.\n",
    "* The parameters are the variables in between the function's parentheses in the def statement.\n",
    "* The return value is specified using the return statement.\n",
    "* Every function has a return value. If your function doesn't have a return statement, the default return value is None. (Like True and False, None is written with a capital first letter.)\n",
    "* Keyword arguments to functions are usually for optional arguments. The print() function has keyword arguments \"end\" and \"sep\"."
   ]
  },
  {
   "cell_type": "code",
   "execution_count": 76,
   "id": "e722f306",
   "metadata": {},
   "outputs": [
    {
     "data": {
      "text/plain": [
       "('your revised salary is', 2300.0)"
      ]
     },
     "execution_count": 76,
     "metadata": {},
     "output_type": "execute_result"
    }
   ],
   "source": [
    "# Self Defined Function\n",
    "\n",
    "def salary_increment(x):  #Here x is a parameter not an argument\n",
    "    return 'your revised salary is', x * 1.15\n",
    "    \n",
    "salary_increment(2000)"
   ]
  },
  {
   "cell_type": "code",
   "execution_count": 83,
   "id": "35f9f3b5",
   "metadata": {},
   "outputs": [
    {
     "data": {
      "text/plain": [
       "'hi 5'"
      ]
     },
     "execution_count": 83,
     "metadata": {},
     "output_type": "execute_result"
    }
   ],
   "source": [
    "# Type Conversion \n",
    "\n",
    "'hi ' + str(5)"
   ]
  },
  {
   "cell_type": "code",
   "execution_count": 86,
   "id": "e0cd3281",
   "metadata": {},
   "outputs": [
    {
     "name": "stdout",
     "output_type": "stream",
     "text": [
      "10, 20\n"
     ]
    }
   ],
   "source": [
    "# args and kwargs i.e., arguments and keyword arguments\n",
    "\n",
    "print(10, end= ', ')  #Kwargs are optional\n",
    "print(20)"
   ]
  },
  {
   "cell_type": "markdown",
   "id": "db7fbfe3",
   "metadata": {},
   "source": [
    "### Lesson 10 : Global and Local Scopes\n",
    "\n",
    "* A scope can be thought of as a container of variables.\n",
    "* The global scope is code outside of all functions. Variables assigned here are global variables.\n",
    "* Each function's code is in its own local scope. Variables assigned here are local variables.\n",
    "* Code in the global scope cannot use any local variables.\n",
    "* Code in a function's local scope cannot use variables in any another function's local scope. While global can be used.\n",
    "* If there's an assignment statement for a variable in a function, that is a local variable. The exception is if there's a global statement for that variable; then it's a global variable."
   ]
  },
  {
   "cell_type": "code",
   "execution_count": 109,
   "id": "93939d2c",
   "metadata": {},
   "outputs": [],
   "source": [
    "# Global Variable\n",
    "x = 10 \n",
    "\n",
    "# Local Variable\n",
    "def tajamul():\n",
    "    x = 5\n",
    "    print(x)"
   ]
  },
  {
   "cell_type": "code",
   "execution_count": 106,
   "id": "390c5184",
   "metadata": {},
   "outputs": [
    {
     "name": "stdout",
     "output_type": "stream",
     "text": [
      "100\n"
     ]
    }
   ],
   "source": [
    "# using global variable inside function \n",
    "\n",
    "x = 100\n",
    "\n",
    "def ik(): # Here no Assignment operator, so global variable\n",
    "    print(x)\n",
    "\n",
    "ik() "
   ]
  },
  {
   "cell_type": "code",
   "execution_count": 102,
   "id": "5a2f9f69",
   "metadata": {},
   "outputs": [
    {
     "name": "stdout",
     "output_type": "stream",
     "text": [
      "100\n"
     ]
    }
   ],
   "source": [
    "# Local variable is created by Assignment Operation\n",
    "\n",
    "def ik():\n",
    "    egg = 10 # Here Assignment operator changes x to Local\n",
    "    print(egg)\n",
    "\n",
    "ik() "
   ]
  },
  {
   "cell_type": "code",
   "execution_count": 107,
   "id": "f53a407a",
   "metadata": {},
   "outputs": [],
   "source": [
    "# Changing local variable to global inside function\n",
    "\n",
    "x = 10\n",
    "def ty():\n",
    "    global tj  #changed to global scope\n",
    "    tj = 100\n",
    "    print(tj)"
   ]
  },
  {
   "cell_type": "markdown",
   "id": "e49f0e22",
   "metadata": {},
   "source": [
    "## IV. Exception Handling"
   ]
  },
  {
   "cell_type": "markdown",
   "id": "eaa674a8",
   "metadata": {},
   "source": [
    "### Lesson 11 : Try and Except Statements\n",
    "\n",
    "* A divide-by-zero error happens when Python divides a number by zero.\n",
    "* Errors cause the program to crash. (This doesn't damage your computer at all. It's just that the computer doesn't know how to carry out this instruction, so it immediately stops the program by \"crashing\" rather than continue.)\n",
    "* An error that happens inside a try block will cause code in the except block to execute. That code can handle the error or display a message to the user so that the program can keep going.\n",
    "* The try and except blocks should handle the exception when calling the function, not when defining it."
   ]
  },
  {
   "cell_type": "code",
   "execution_count": 115,
   "id": "39f91637",
   "metadata": {},
   "outputs": [
    {
     "ename": "ZeroDivisionError",
     "evalue": "division by zero",
     "output_type": "error",
     "traceback": [
      "\u001b[0;31m---------------------------------------------------------------------------\u001b[0m",
      "\u001b[0;31mZeroDivisionError\u001b[0m                         Traceback (most recent call last)",
      "Cell \u001b[0;32mIn[115], line 6\u001b[0m\n\u001b[1;32m      3\u001b[0m \u001b[38;5;28;01mdef\u001b[39;00m \u001b[38;5;21mdivider\u001b[39m(x):\n\u001b[1;32m      4\u001b[0m     \u001b[38;5;28;01mreturn\u001b[39;00m \u001b[38;5;241m42\u001b[39m\u001b[38;5;241m/\u001b[39mx\n\u001b[0;32m----> 6\u001b[0m divider(\u001b[38;5;241m0\u001b[39m)\n",
      "Cell \u001b[0;32mIn[115], line 4\u001b[0m, in \u001b[0;36mdivider\u001b[0;34m(x)\u001b[0m\n\u001b[1;32m      3\u001b[0m \u001b[38;5;28;01mdef\u001b[39;00m \u001b[38;5;21mdivider\u001b[39m(x):\n\u001b[0;32m----> 4\u001b[0m     \u001b[38;5;28;01mreturn\u001b[39;00m \u001b[38;5;241m42\u001b[39m\u001b[38;5;241m/\u001b[39mx\n",
      "\u001b[0;31mZeroDivisionError\u001b[0m: division by zero"
     ]
    }
   ],
   "source": [
    "# Dividing number by zero gives error\n",
    "\n",
    "def divider(x):\n",
    "    return 42/x\n",
    "\n",
    "divider(0)"
   ]
  },
  {
   "cell_type": "code",
   "execution_count": 142,
   "id": "34e47eeb",
   "metadata": {},
   "outputs": [
    {
     "name": "stdout",
     "output_type": "stream",
     "text": [
      "21.0\n",
      "Dont divide by zero\n",
      "None\n"
     ]
    }
   ],
   "source": [
    "# Try and Except Method -- ZeroDivisionError\n",
    "\n",
    "def divider(x):\n",
    "    try:\n",
    "        return 42/x\n",
    "    except ZeroDivisionError:\n",
    "        print('Dont divide by zero')\n",
    "            \n",
    "print(divider(2))\n",
    "print(divider(0))"
   ]
  },
  {
   "cell_type": "code",
   "execution_count": 141,
   "id": "8d451992",
   "metadata": {},
   "outputs": [
    {
     "name": "stdout",
     "output_type": "stream",
     "text": [
      "How many cats do you have? six\n",
      "Enter Numbers only\n"
     ]
    }
   ],
   "source": [
    "# Cat Counter -- ValueError\n",
    "\n",
    "try:\n",
    "    x = int(input('How many cats do you have? '))\n",
    "    if x <= 4:\n",
    "        print('less cats')\n",
    "    else:\n",
    "        print('more cats')\n",
    "except ValueError:\n",
    "    print('Enter Numbers only')"
   ]
  },
  {
   "cell_type": "markdown",
   "id": "6a69a48d",
   "metadata": {},
   "source": [
    "## V. Guess the Number Game"
   ]
  },
  {
   "cell_type": "code",
   "execution_count": null,
   "id": "88aea7f4",
   "metadata": {},
   "outputs": [],
   "source": [
    "import random\n",
    "\n",
    "x = input('Hello, what is your name? ')\n",
    "print('so, ' +  x + ', I am thinking of a number between 1 and 10')\n",
    "\n",
    "secret_number = random.randint(1,10)\n",
    "\n",
    "for i in range(1,7):\n",
    "    print('take a guess')\n",
    "    \n",
    "    guess = int(input())\n",
    "    if guess < secret_number:\n",
    "        print('Too Low')\n",
    "    elif guess > secret_number:\n",
    "        print('Too High')\n",
    "    else:\n",
    "        break\n",
    "        \n",
    "if guess == secret_number:\n",
    "    print('good job, It took you ' + str(i) + ' guesses to guess my number')\n",
    "else:\n",
    "    print('Exceeded guess limits, My guess number was ' + str(secret_number))"
   ]
  },
  {
   "cell_type": "markdown",
   "id": "de9dbf89",
   "metadata": {},
   "source": [
    "## VI. List\n",
    "\n",
    "*a list is a built-in data structure that represents an ordered collection of elements i.e., [1,2,3] != [3,2,1]\n",
    "and is mutable.*"
   ]
  },
  {
   "cell_type": "markdown",
   "id": "bacd9f7e",
   "metadata": {},
   "source": [
    "### Lesson 13: List Basics\n",
    "\n",
    "* A list is a value that contains multiple values: [42, 3.14, ‘hello']\n",
    "* The values in a list are called items.\n",
    "* You can access items in a list with its integer index.\n",
    "* The indexes start at 0, not 1.\n",
    "* You can also use negative indexes: -1 refers to the last item, -2 refers to the second to last item, and so on.\n",
    "* You can get multiple items from the list using a slice.\n",
    "* The slice has two indexes. \n",
    "* The new list's items start at the first index and go up to, but doesn't include, the second index.\n",
    "* The len() function, concatenation, and replication work the same way on lists that they do with strings.\n",
    "* You can convert a value into a list by passing it to the list() function."
   ]
  },
  {
   "cell_type": "markdown",
   "id": "be8a7330",
   "metadata": {},
   "source": [
    "**Indexing**"
   ]
  },
  {
   "cell_type": "code",
   "execution_count": 14,
   "id": "4ef9cb01",
   "metadata": {},
   "outputs": [
    {
     "data": {
      "text/plain": [
       "'a'"
      ]
     },
     "execution_count": 14,
     "metadata": {},
     "output_type": "execute_result"
    }
   ],
   "source": [
    "# Basic Indexing\n",
    "\n",
    "x = ['a','b','c']\n",
    "x[0]"
   ]
  },
  {
   "cell_type": "code",
   "execution_count": 15,
   "id": "863e2407",
   "metadata": {},
   "outputs": [],
   "source": [
    "# Nested List Indexing\n",
    "\n",
    "y = [['n','c'], 'a', 'b']"
   ]
  },
  {
   "cell_type": "code",
   "execution_count": 17,
   "id": "15ab03ca",
   "metadata": {},
   "outputs": [
    {
     "data": {
      "text/plain": [
       "'c'"
      ]
     },
     "execution_count": 17,
     "metadata": {},
     "output_type": "execute_result"
    }
   ],
   "source": [
    "y[0][1]"
   ]
  },
  {
   "cell_type": "code",
   "execution_count": 18,
   "id": "333e8458",
   "metadata": {},
   "outputs": [
    {
     "data": {
      "text/plain": [
       "'c'"
      ]
     },
     "execution_count": 18,
     "metadata": {},
     "output_type": "execute_result"
    }
   ],
   "source": [
    "# Negative Indexing\n",
    "\n",
    "x = ['a','b','c']\n",
    "x[-1]"
   ]
  },
  {
   "cell_type": "markdown",
   "id": "fbb41a92",
   "metadata": {},
   "source": [
    "**Slicing**"
   ]
  },
  {
   "cell_type": "code",
   "execution_count": 30,
   "id": "5df7d8c7",
   "metadata": {},
   "outputs": [
    {
     "data": {
      "text/plain": [
       "['a', 'b']"
      ]
     },
     "execution_count": 30,
     "metadata": {},
     "output_type": "execute_result"
    }
   ],
   "source": [
    "# Basic Slicing\n",
    "\n",
    "x = ['a','b','c']\n",
    "\n",
    "x[0:2] #(n,n-1) concept"
   ]
  },
  {
   "cell_type": "code",
   "execution_count": 29,
   "id": "8ec9b575",
   "metadata": {},
   "outputs": [
    {
     "data": {
      "text/plain": [
       "['a', 'b', 'c']"
      ]
     },
     "execution_count": 29,
     "metadata": {},
     "output_type": "execute_result"
    }
   ],
   "source": [
    "#Negative Slicing\n",
    "\n",
    "x = ['a','b','c']\n",
    "\n",
    "x[-3::]"
   ]
  },
  {
   "cell_type": "markdown",
   "id": "a1e5e440",
   "metadata": {},
   "source": [
    "**Mutability of Lists**"
   ]
  },
  {
   "cell_type": "code",
   "execution_count": 35,
   "id": "059965c5",
   "metadata": {},
   "outputs": [
    {
     "data": {
      "text/plain": [
       "['a', 'b', 1, 2]"
      ]
     },
     "execution_count": 35,
     "metadata": {},
     "output_type": "execute_result"
    }
   ],
   "source": [
    "x = ['a','b','c']\n",
    "x[2:] = [1,2]\n",
    "x"
   ]
  },
  {
   "cell_type": "markdown",
   "id": "6ab305cc",
   "metadata": {},
   "source": [
    "**List Functions**"
   ]
  },
  {
   "cell_type": "code",
   "execution_count": 60,
   "id": "d18476fb",
   "metadata": {},
   "outputs": [],
   "source": [
    "fruits = ['apple','banana','grapes']"
   ]
  },
  {
   "cell_type": "code",
   "execution_count": 61,
   "id": "96d5815e",
   "metadata": {},
   "outputs": [
    {
     "data": {
      "text/plain": [
       "3"
      ]
     },
     "execution_count": 61,
     "metadata": {},
     "output_type": "execute_result"
    }
   ],
   "source": [
    "len(fruits)  #len"
   ]
  },
  {
   "cell_type": "code",
   "execution_count": 64,
   "id": "43e91c62",
   "metadata": {},
   "outputs": [
    {
     "data": {
      "text/plain": [
       "['apple', 'banana']"
      ]
     },
     "execution_count": 64,
     "metadata": {},
     "output_type": "execute_result"
    }
   ],
   "source": [
    "del fruits[2]   #del\n",
    "fruits"
   ]
  },
  {
   "cell_type": "code",
   "execution_count": 71,
   "id": "6c6f8285",
   "metadata": {},
   "outputs": [
    {
     "data": {
      "text/plain": [
       "[1, 2, 3, 4, 5, 6, 7, 8]"
      ]
     },
     "execution_count": 71,
     "metadata": {},
     "output_type": "execute_result"
    }
   ],
   "source": [
    "bind = [1,2,3,4] + [5,6,7,8]  #concatenate\n",
    "bind"
   ]
  },
  {
   "cell_type": "code",
   "execution_count": 75,
   "id": "139c682a",
   "metadata": {},
   "outputs": [
    {
     "name": "stdout",
     "output_type": "stream",
     "text": [
      "True\n",
      "False\n"
     ]
    }
   ],
   "source": [
    "x = ['a', 'b', 'c', 'd', 'e']  #Membership\n",
    "\n",
    "print('a' in x)\n",
    "print('a' not in x)"
   ]
  },
  {
   "cell_type": "code",
   "execution_count": 82,
   "id": "2b2609b9",
   "metadata": {},
   "outputs": [
    {
     "data": {
      "text/plain": [
       "[1, 2, 3]"
      ]
     },
     "execution_count": 82,
     "metadata": {},
     "output_type": "execute_result"
    }
   ],
   "source": [
    "x = (1,2,3)  #List conversion\n",
    "list(x)"
   ]
  },
  {
   "cell_type": "markdown",
   "id": "e7d9ba3d",
   "metadata": {},
   "source": [
    "### Lesson 14: For Loops with Lists, Multiple Assignment and Augmented Operators\n",
    "\n",
    "* A for loop technically iterates over the values in a list.\n",
    "* The range() function returns a list-like value, which can be passed to the list() function if you need an actual list value.\n",
    "* Variables can swap their values using multiple assignment: a, b = b, a\n",
    "* Augmented assignment operators like += are used as shortcuts."
   ]
  },
  {
   "cell_type": "code",
   "execution_count": 83,
   "id": "80ded885",
   "metadata": {},
   "outputs": [
    {
     "name": "stdout",
     "output_type": "stream",
     "text": [
      "0\n",
      "1\n",
      "2\n",
      "3\n"
     ]
    }
   ],
   "source": [
    "# The range() function returns a list-like value, which can be passed to the list() function.\n",
    "for i in [0,1,2,3]:\n",
    "    print(i)"
   ]
  },
  {
   "cell_type": "code",
   "execution_count": 91,
   "id": "d94e8b68",
   "metadata": {},
   "outputs": [
    {
     "data": {
      "text/plain": [
       "[0, 2, 4, 6, 8]"
      ]
     },
     "execution_count": 91,
     "metadata": {},
     "output_type": "execute_result"
    }
   ],
   "source": [
    "# Conversion of Range to List\n",
    "list(range(0,10,2))"
   ]
  },
  {
   "cell_type": "markdown",
   "id": "cd602f30",
   "metadata": {},
   "source": [
    "**For loop for List with strings**"
   ]
  },
  {
   "cell_type": "code",
   "execution_count": 100,
   "id": "92ea428e",
   "metadata": {},
   "outputs": [
    {
     "name": "stdout",
     "output_type": "stream",
     "text": [
      "0 Bat\n",
      "Bat\n",
      "1 cat\n",
      "cat\n",
      "2 Rat\n",
      "Rat\n",
      "3 Dog\n",
      "Dog\n"
     ]
    }
   ],
   "source": [
    "# How to use for loop for list containing String elements?\n",
    "animals = [\"Bat\", \"cat\", \"Rat\", \"Dog\"]\n",
    "\n",
    "for i in range(len(animals)):\n",
    "    print(i, animals[i]) #index and value"
   ]
  },
  {
   "cell_type": "markdown",
   "id": "158512b6",
   "metadata": {},
   "source": [
    "**Multiple Assignment**"
   ]
  },
  {
   "cell_type": "code",
   "execution_count": 103,
   "id": "f192bda7",
   "metadata": {},
   "outputs": [],
   "source": [
    "Dog = ['Slim', 'Black', 'Loud']"
   ]
  },
  {
   "cell_type": "code",
   "execution_count": 106,
   "id": "b38d5982",
   "metadata": {},
   "outputs": [],
   "source": [
    "Size, Color, Bark = Dog  # Multiple Assignment"
   ]
  },
  {
   "cell_type": "code",
   "execution_count": 105,
   "id": "d1f33bf8",
   "metadata": {},
   "outputs": [
    {
     "data": {
      "text/plain": [
       "'Slim'"
      ]
     },
     "execution_count": 105,
     "metadata": {},
     "output_type": "execute_result"
    }
   ],
   "source": [
    "Size"
   ]
  },
  {
   "cell_type": "code",
   "execution_count": 107,
   "id": "3175c9ba",
   "metadata": {},
   "outputs": [
    {
     "data": {
      "text/plain": [
       "'Black'"
      ]
     },
     "execution_count": 107,
     "metadata": {},
     "output_type": "execute_result"
    }
   ],
   "source": [
    "Color"
   ]
  },
  {
   "cell_type": "code",
   "execution_count": 108,
   "id": "16c53dc0",
   "metadata": {},
   "outputs": [
    {
     "data": {
      "text/plain": [
       "'Loud'"
      ]
     },
     "execution_count": 108,
     "metadata": {},
     "output_type": "execute_result"
    }
   ],
   "source": [
    "Bark"
   ]
  },
  {
   "cell_type": "markdown",
   "id": "4cf8e124",
   "metadata": {},
   "source": [
    "**Swapping Values in Variables**"
   ]
  },
  {
   "cell_type": "code",
   "execution_count": 117,
   "id": "0953ab81",
   "metadata": {},
   "outputs": [],
   "source": [
    "a = 'cat'\n",
    "b = 'rat'"
   ]
  },
  {
   "cell_type": "code",
   "execution_count": 118,
   "id": "64272916",
   "metadata": {},
   "outputs": [],
   "source": [
    "a, b = b, a #Swapping Values"
   ]
  },
  {
   "cell_type": "code",
   "execution_count": 119,
   "id": "d6bd7280",
   "metadata": {},
   "outputs": [
    {
     "data": {
      "text/plain": [
       "'rat'"
      ]
     },
     "execution_count": 119,
     "metadata": {},
     "output_type": "execute_result"
    }
   ],
   "source": [
    "a"
   ]
  },
  {
   "cell_type": "code",
   "execution_count": 120,
   "id": "7a1afb8b",
   "metadata": {},
   "outputs": [
    {
     "data": {
      "text/plain": [
       "'cat'"
      ]
     },
     "execution_count": 120,
     "metadata": {},
     "output_type": "execute_result"
    }
   ],
   "source": [
    "b"
   ]
  },
  {
   "cell_type": "markdown",
   "id": "b636a4db",
   "metadata": {},
   "source": [
    "**Augmented Assignment Operator**"
   ]
  },
  {
   "cell_type": "code",
   "execution_count": 122,
   "id": "7db9f729",
   "metadata": {},
   "outputs": [
    {
     "data": {
      "text/plain": [
       "3"
      ]
     },
     "execution_count": 122,
     "metadata": {},
     "output_type": "execute_result"
    }
   ],
   "source": [
    "x = 2 + 1\n",
    "x"
   ]
  },
  {
   "cell_type": "code",
   "execution_count": 126,
   "id": "73f9c402",
   "metadata": {},
   "outputs": [
    {
     "data": {
      "text/plain": [
       "4"
      ]
     },
     "execution_count": 126,
     "metadata": {},
     "output_type": "execute_result"
    }
   ],
   "source": [
    "y = 1\n",
    "y += 3  # Assignment Operator\n",
    "y"
   ]
  },
  {
   "cell_type": "markdown",
   "id": "5bcedaaf",
   "metadata": {},
   "source": [
    "### Lesson 15: List Methods\n",
    "*Methods are functions that are \"called on\" values.*\n",
    "\n",
    "Return values are not used for methods like x = x.append('z')\n",
    "\n",
    "* The index() list method returns the index of an item in the list.\n",
    "* The append() list method adds a value to the end of a list.\n",
    "* The insert() list method adds a value anywhere inside a list.\n",
    "* The remove() list method removes an item, specified by the value, from a list.\n",
    "* The sort() list method sorts the items in a list.\n",
    "* The sort() method's reverse=True keyword argument can make the sort() method sort in reverse order.\n",
    "* The sort() cant be used on list with multiple data types - important\n",
    "* These list methods operate on the list \"in place\", rather than returning a new list value."
   ]
  },
  {
   "cell_type": "markdown",
   "id": "0753018e",
   "metadata": {},
   "source": [
    "**Functions vs Methods**"
   ]
  },
  {
   "cell_type": "code",
   "execution_count": 156,
   "id": "bb07f19e",
   "metadata": {},
   "outputs": [
    {
     "name": "stdout",
     "output_type": "stream",
     "text": [
      "5\n"
     ]
    },
    {
     "data": {
      "text/plain": [
       "0"
      ]
     },
     "execution_count": 156,
     "metadata": {},
     "output_type": "execute_result"
    }
   ],
   "source": [
    "print(len('Hello'))  #Function\n",
    "\n",
    "x = ['Hello', 'Hey', 'Hi']\n",
    "\n",
    "x.index('Hello')  #Method because it is called on Value"
   ]
  },
  {
   "cell_type": "code",
   "execution_count": 157,
   "id": "12674323",
   "metadata": {},
   "outputs": [
    {
     "data": {
      "text/plain": [
       "['apple', 'banana', 'grapes', 'orange']"
      ]
     },
     "execution_count": 157,
     "metadata": {},
     "output_type": "execute_result"
    }
   ],
   "source": [
    "fruits = ['apple','banana','grapes']\n",
    "\n",
    "fruits.append('orange')  #append\n",
    "fruits"
   ]
  },
  {
   "cell_type": "code",
   "execution_count": 158,
   "id": "c9a94d3a",
   "metadata": {},
   "outputs": [
    {
     "data": {
      "text/plain": [
       "['apple', 'banana', 'grapes']"
      ]
     },
     "execution_count": 158,
     "metadata": {},
     "output_type": "execute_result"
    }
   ],
   "source": [
    "fruits.pop()   #pop\n",
    "fruits"
   ]
  },
  {
   "cell_type": "code",
   "execution_count": 159,
   "id": "07b631ee",
   "metadata": {},
   "outputs": [
    {
     "data": {
      "text/plain": [
       "['apple', 'Mango', 'banana', 'grapes']"
      ]
     },
     "execution_count": 159,
     "metadata": {},
     "output_type": "execute_result"
    }
   ],
   "source": [
    "fruits.insert(1, 'Mango')  #insert (Index, New Value)\n",
    "fruits"
   ]
  },
  {
   "cell_type": "code",
   "execution_count": 160,
   "id": "1b52b5a9",
   "metadata": {},
   "outputs": [
    {
     "data": {
      "text/plain": [
       "['Mango', 'banana', 'grapes']"
      ]
     },
     "execution_count": 160,
     "metadata": {},
     "output_type": "execute_result"
    }
   ],
   "source": [
    "fruits.remove('apple')  #remove\n",
    "fruits"
   ]
  },
  {
   "cell_type": "code",
   "execution_count": 165,
   "id": "cbb19b1b",
   "metadata": {},
   "outputs": [
    {
     "data": {
      "text/plain": [
       "[2.5, 5, 7, 7.15, 8.15, 9]"
      ]
     },
     "execution_count": 165,
     "metadata": {},
     "output_type": "execute_result"
    }
   ],
   "source": [
    "number = [5, 2.5, 7.15, 7, 9, 8.15] #Sorting Numbers in Asc\n",
    "number.sort()\n",
    "number"
   ]
  },
  {
   "cell_type": "code",
   "execution_count": 169,
   "id": "e0a0c80a",
   "metadata": {},
   "outputs": [
    {
     "data": {
      "text/plain": [
       "['cat', 'dogs', 'monkeys', 'zebra']"
      ]
     },
     "execution_count": 169,
     "metadata": {},
     "output_type": "execute_result"
    }
   ],
   "source": [
    "animals = ['monkeys', 'dogs', 'zebra', 'cat'] #Sorting Strings alphabetically\n",
    "animals.sort()\n",
    "animals"
   ]
  },
  {
   "cell_type": "code",
   "execution_count": 170,
   "id": "53a54c02",
   "metadata": {},
   "outputs": [
    {
     "data": {
      "text/plain": [
       "[9, 8.15, 7.15, 7, 5, 2.5]"
      ]
     },
     "execution_count": 170,
     "metadata": {},
     "output_type": "execute_result"
    }
   ],
   "source": [
    "number = [5, 2.5, 7.15, 7, 9, 8.15] #Sorting Numbers in Desc\n",
    "number.sort(reverse = True)\n",
    "number"
   ]
  },
  {
   "cell_type": "code",
   "execution_count": 171,
   "id": "0efa569c",
   "metadata": {},
   "outputs": [
    {
     "ename": "TypeError",
     "evalue": "'<' not supported between instances of 'int' and 'str'",
     "output_type": "error",
     "traceback": [
      "\u001b[0;31m---------------------------------------------------------------------------\u001b[0m",
      "\u001b[0;31mTypeError\u001b[0m                                 Traceback (most recent call last)",
      "Cell \u001b[0;32mIn[171], line 4\u001b[0m\n\u001b[1;32m      1\u001b[0m \u001b[38;5;66;03m#The sort() cant be used on list with multiple data types - important\u001b[39;00m\n\u001b[1;32m      3\u001b[0m x \u001b[38;5;241m=\u001b[39m [\u001b[38;5;124m'\u001b[39m\u001b[38;5;124mmonkeys\u001b[39m\u001b[38;5;124m'\u001b[39m, \u001b[38;5;124m'\u001b[39m\u001b[38;5;124mdogs\u001b[39m\u001b[38;5;124m'\u001b[39m, \u001b[38;5;241m1\u001b[39m , \u001b[38;5;241m0\u001b[39m]\n\u001b[0;32m----> 4\u001b[0m x\u001b[38;5;241m.\u001b[39msort()\n",
      "\u001b[0;31mTypeError\u001b[0m: '<' not supported between instances of 'int' and 'str'"
     ]
    }
   ],
   "source": [
    "#The sort() cant be used on list with multiple data types - important\n",
    "\n",
    "x = ['monkeys', 'dogs', 1 , 0]\n",
    "x.sort()"
   ]
  },
  {
   "cell_type": "markdown",
   "id": "78ff099e",
   "metadata": {},
   "source": [
    "**Alphabetical vs ASCII - betical Order (AKA askey)** \n",
    "\n",
    "*This mean elements with capital letter will be given preference*"
   ]
  },
  {
   "cell_type": "code",
   "execution_count": 187,
   "id": "7854a4a9",
   "metadata": {},
   "outputs": [
    {
     "data": {
      "text/plain": [
       "['Andrew', 'Bob', 'andy', 'bob']"
      ]
     },
     "execution_count": 187,
     "metadata": {},
     "output_type": "execute_result"
    }
   ],
   "source": [
    "x = ['andy', 'Andrew', 'Bob', 'bob']  #Capital will be given preference\n",
    "x.sort()\n",
    "x"
   ]
  },
  {
   "cell_type": "code",
   "execution_count": 179,
   "id": "2d896274",
   "metadata": {},
   "outputs": [
    {
     "data": {
      "text/plain": [
       "['andy', 'Andy', 'Bob', 'bob']"
      ]
     },
     "execution_count": 179,
     "metadata": {},
     "output_type": "execute_result"
    }
   ],
   "source": [
    "# In order to solve above problem\n",
    "\n",
    "x = ['andy', 'Andrew', 'Bob', 'bob']  \n",
    "x.sort(key = str.lower)  #Get Elements in True Form\n",
    "x"
   ]
  },
  {
   "cell_type": "markdown",
   "id": "8cc30bfd",
   "metadata": {},
   "source": [
    "### Lesson 16: Similarities between List and String\n",
    "*Lists are Mutable while strings are not*\n",
    "\n",
    "* Strings can do a lot of the same things lists can do, but strings are immutable.\n",
    "* Immutable values like strings and tuples cannot be modified \"in place\".\n",
    "* Mutable values like lists can be modified in place.\n",
    "* Variables don't contain lists, they contain references to lists.\n",
    "* When passing a list argument to a function, you are actually passing a list reference.\n",
    "* Changes made to a list in a function will affect the list outside the function.\n",
    "* The \\ line continuation character can be used to stretch Python instruction across multiple lines."
   ]
  },
  {
   "cell_type": "code",
   "execution_count": 193,
   "id": "b08cc911",
   "metadata": {},
   "outputs": [
    {
     "ename": "TypeError",
     "evalue": "'str' object does not support item assignment",
     "output_type": "error",
     "traceback": [
      "\u001b[0;31m---------------------------------------------------------------------------\u001b[0m",
      "\u001b[0;31mTypeError\u001b[0m                                 Traceback (most recent call last)",
      "Cell \u001b[0;32mIn[193], line 4\u001b[0m\n\u001b[1;32m      1\u001b[0m \u001b[38;5;66;03m# Mutability\u001b[39;00m\n\u001b[1;32m      3\u001b[0m x \u001b[38;5;241m=\u001b[39m \u001b[38;5;124m'\u001b[39m\u001b[38;5;124mI am a Data Analyst\u001b[39m\u001b[38;5;124m'\u001b[39m\n\u001b[0;32m----> 4\u001b[0m x[\u001b[38;5;241m0\u001b[39m] \u001b[38;5;241m=\u001b[39m \u001b[38;5;124m'\u001b[39m\u001b[38;5;124mU\u001b[39m\u001b[38;5;124m'\u001b[39m\n",
      "\u001b[0;31mTypeError\u001b[0m: 'str' object does not support item assignment"
     ]
    }
   ],
   "source": [
    "# String does not support Mutability\n",
    "\n",
    "x = 'I am a Data Analyst'\n",
    "x[0] = 'U'"
   ]
  },
  {
   "cell_type": "code",
   "execution_count": 198,
   "id": "ea07d216",
   "metadata": {},
   "outputs": [
    {
     "name": "stdout",
     "output_type": "stream",
     "text": [
      "[0, 2, 4, 6, 8]\n"
     ]
    },
    {
     "data": {
      "text/plain": [
       "[10, 2, 4, 6, 8]"
      ]
     },
     "execution_count": 198,
     "metadata": {},
     "output_type": "execute_result"
    }
   ],
   "source": [
    "# List Supports Mutability\n",
    "\n",
    "x = list(range(0,10,2))\n",
    "print(x)\n",
    "x[0] = 10\n",
    "x"
   ]
  },
  {
   "cell_type": "markdown",
   "id": "695b9025",
   "metadata": {},
   "source": [
    "**References**"
   ]
  },
  {
   "cell_type": "code",
   "execution_count": 202,
   "id": "00b9bf5f",
   "metadata": {},
   "outputs": [
    {
     "name": "stdout",
     "output_type": "stream",
     "text": [
      "22\n",
      "20\n"
     ]
    }
   ],
   "source": [
    "A = 20\n",
    "B = A\n",
    "A += 2\n",
    "\n",
    "print(A)\n",
    "print(B) #B is not updated because it is not referenced"
   ]
  },
  {
   "cell_type": "code",
   "execution_count": 224,
   "id": "e55906ea",
   "metadata": {},
   "outputs": [
    {
     "name": "stdout",
     "output_type": "stream",
     "text": [
      "[22, 2, 3, 4, 5]\n",
      "[22, 2, 3, 4, 5]\n"
     ]
    }
   ],
   "source": [
    "# Variables contain references to lists because lists are saved as Reference IDs to save space, \n",
    "# lets say we have thousands of value in list, then it will only be referenced by ID hence saving space\n",
    "\n",
    "spam = [1,2,3,4,5]\n",
    "cheese = spam\n",
    "\n",
    "spam[0] = 22\n",
    "\n",
    "print(xmas)\n",
    "print(bat)  #both getting updated"
   ]
  },
  {
   "attachments": {
    "image.png": {
     "image/png": "[encoded data removed]"
    }
   },
   "cell_type": "markdown",
   "id": "5aa82329",
   "metadata": {},
   "source": [
    "![image.png](attachment:image.png)\n"
   ]
  },
  {
   "cell_type": "markdown",
   "id": "c79dc15b",
   "metadata": {},
   "source": [
    "**Line Continuation Character**"
   ]
  },
  {
   "cell_type": "code",
   "execution_count": 222,
   "id": "d99607fa",
   "metadata": {},
   "outputs": [
    {
     "name": "stdout",
     "output_type": "stream",
     "text": [
      "Automate Boring Stuff with Python you can literally enjoy and relax\n"
     ]
    }
   ],
   "source": [
    "print('Automate Boring Stuff with Python \\\n",
    "you can literally enjoy and relax')"
   ]
  },
  {
   "cell_type": "markdown",
   "id": "29df09eb",
   "metadata": {},
   "source": [
    "## VII. Dictionaries\n",
    "\n",
    "*A dictionary in Python is an unordered, mutable, and indexed collection of key-value pairs. Each key is unique and is used to access the corresponding value in the dictionary. Dictionaries are highly efficient for lookups, insertion, and deletion of key-value pairs.*"
   ]
  },
  {
   "cell_type": "markdown",
   "id": "d0fd1340",
   "metadata": {},
   "source": [
    "### Lesson 17: The Dictionary Data Type\n",
    "\n",
    "**Keys:** *Must be immutable and unique. Examples include integers, strings, and tuples.*\n",
    "\n",
    "**Values:** *Can be mutable or immutable. Examples include integers, strings, lists, and dictionaries.*\n",
    "\n",
    "\n",
    "* Dictionaries contain key-value pairs. Keys are like a list's indexes.\n",
    "* Dictionaries are mutable. \n",
    "* Variables hold references to dictionary values, not the dictionary value itself.\n",
    "* Dictionaries are unordered. There is no \"first\" key-value pair in a dictionary.\n",
    "* The keys(), values(), and items() methods will return list-like values of a dictionary's keys, vaues, and both keys and values, respectively.\n",
    "* The get() method can return a default value if a key doesn't exist.\n",
    "* The setdefault() method can set a value if a key doesn't exist.\n",
    "* The pprint module's pprint() \"pretty print\" function can display a dictionary value cleanly. \n",
    "* The pformat() function returns a string value of this output."
   ]
  },
  {
   "cell_type": "code",
   "execution_count": 234,
   "id": "087c374b",
   "metadata": {},
   "outputs": [],
   "source": [
    "#Key value pair\n",
    "mycat = {'size' : 'fat', 'color' : 'orange' , 'age': [3,4]}"
   ]
  },
  {
   "cell_type": "code",
   "execution_count": 231,
   "id": "1081042a",
   "metadata": {},
   "outputs": [
    {
     "data": {
      "text/plain": [
       "'fat'"
      ]
     },
     "execution_count": 231,
     "metadata": {},
     "output_type": "execute_result"
    }
   ],
   "source": [
    "mycat['size']"
   ]
  },
  {
   "cell_type": "code",
   "execution_count": 233,
   "id": "2af5bfe0",
   "metadata": {},
   "outputs": [
    {
     "data": {
      "text/plain": [
       "4"
      ]
     },
     "execution_count": 233,
     "metadata": {},
     "output_type": "execute_result"
    }
   ],
   "source": [
    "mycat['age'][1]"
   ]
  },
  {
   "cell_type": "code",
   "execution_count": 240,
   "id": "65ba08b2",
   "metadata": {},
   "outputs": [
    {
     "name": "stdout",
     "output_type": "stream",
     "text": [
      "False\n",
      "True\n"
     ]
    }
   ],
   "source": [
    "#Dictionaries are unordered unlike lists\n",
    "\n",
    "print([1,2,3] == [3,2,1]) #False, because list is ordered\n",
    "\n",
    "print({'size' : 'fat', 'color' : 'orange'} == {'color' : 'orange', 'size' : 'fat'}) #True (Unordered)"
   ]
  },
  {
   "cell_type": "code",
   "execution_count": 245,
   "id": "9e208256",
   "metadata": {},
   "outputs": [
    {
     "name": "stdout",
     "output_type": "stream",
     "text": [
      "True\n",
      "False\n"
     ]
    }
   ],
   "source": [
    "#check if key exists or not in Dict (in and not in)\n",
    "\n",
    "dict = {'size' : 'fat', 'color' : 'orange'}\n",
    "\n",
    "print('size' in dict) #only for keys\n",
    "print('fat' in dict)   #not for values"
   ]
  },
  {
   "cell_type": "code",
   "execution_count": 247,
   "id": "5b5fdf02",
   "metadata": {},
   "outputs": [
    {
     "name": "stdout",
     "output_type": "stream",
     "text": [
      "['size', 'color']\n",
      "['fat', 'orange']\n",
      "[('size', 'fat'), ('color', 'orange')]\n"
     ]
    }
   ],
   "source": [
    "# Conversion of Dict into list\n",
    "\n",
    "#Keys\n",
    "print(list(dict.keys()))\n",
    "\n",
    "#Values\n",
    "print(list(dict.values()))\n",
    "\n",
    "#Items\n",
    "print(list(dict.items()))"
   ]
  },
  {
   "cell_type": "code",
   "execution_count": 265,
   "id": "23a52929",
   "metadata": {},
   "outputs": [
    {
     "name": "stdout",
     "output_type": "stream",
     "text": [
      "size\n",
      "color\n",
      "fat\n",
      "orange\n",
      "('size', 'fat')\n",
      "('color', 'orange')\n",
      "size fat\n",
      "color orange\n"
     ]
    }
   ],
   "source": [
    "# Unpacking with for loop\n",
    "\n",
    "dict = {'size' : 'fat', 'color' : 'orange'}\n",
    "\n",
    "for i in dict.keys():\n",
    "    print(i)\n",
    "\n",
    "for i in dict.values():\n",
    "    print(i)\n",
    "    \n",
    "for i in dict.items():  #Returns tuples\n",
    "    print(i)\n",
    "    \n",
    "for a,b in dict.items():\n",
    "    print(a, b)"
   ]
  },
  {
   "cell_type": "code",
   "execution_count": 269,
   "id": "670f925c",
   "metadata": {},
   "outputs": [
    {
     "name": "stdout",
     "output_type": "stream",
     "text": [
      "dict_values(['fat', 'orange'])\n"
     ]
    }
   ],
   "source": [
    "# Checking Membership\n",
    "\n",
    "dict = {'size' : 'fat', 'color' : 'orange'}\n",
    "\n",
    "'fat' in dict.values()\n",
    "\n",
    "'size' in dict.keys()\n",
    "\n",
    "if 'size' in dict.keys():\n",
    "    print(dict.values())"
   ]
  },
  {
   "cell_type": "markdown",
   "id": "b83b1223",
   "metadata": {},
   "source": [
    "**get Method**"
   ]
  },
  {
   "cell_type": "code",
   "execution_count": 272,
   "id": "7b4d045f",
   "metadata": {},
   "outputs": [],
   "source": [
    "category = {'size' : 'fat', 'color' : 'orange', 'age' : 8}"
   ]
  },
  {
   "cell_type": "code",
   "execution_count": 276,
   "id": "58bddc5a",
   "metadata": {},
   "outputs": [
    {
     "data": {
      "text/plain": [
       "0"
      ]
     },
     "execution_count": 276,
     "metadata": {},
     "output_type": "execute_result"
    }
   ],
   "source": [
    "category.get('speed', 0) #returns 0 if not found"
   ]
  },
  {
   "cell_type": "markdown",
   "id": "9402eba7",
   "metadata": {},
   "source": [
    "**setdefault**"
   ]
  },
  {
   "cell_type": "code",
   "execution_count": 278,
   "id": "2f370329",
   "metadata": {},
   "outputs": [
    {
     "data": {
      "text/plain": [
       "'fat'"
      ]
     },
     "execution_count": 278,
     "metadata": {},
     "output_type": "execute_result"
    }
   ],
   "source": [
    "category.setdefault('size', 'thin') #if value for size is missing then 'thin' will be default"
   ]
  },
  {
   "cell_type": "markdown",
   "id": "1e287aa9",
   "metadata": {},
   "source": [
    "**Count Repitition of Letters in String**"
   ]
  },
  {
   "cell_type": "code",
   "execution_count": 289,
   "id": "7706382c",
   "metadata": {},
   "outputs": [
    {
     "data": {
      "text/plain": [
       "{'A': 2,\n",
       " ' ': 3,\n",
       " 'B': 1,\n",
       " 'I': 1,\n",
       " 'G': 1,\n",
       " 'F': 1,\n",
       " 'T': 1,\n",
       " 'H': 1,\n",
       " 'E': 1,\n",
       " 'N': 1}"
      ]
     },
     "execution_count": 289,
     "metadata": {},
     "output_type": "execute_result"
    }
   ],
   "source": [
    "m = 'a big fat hen'\n",
    "\n",
    "count = {}\n",
    "\n",
    "for character in m.upper():\n",
    "    count.setdefault(character, 0)\n",
    "    count[character] += 1\n",
    "\n",
    "count\n"
   ]
  },
  {
   "cell_type": "markdown",
   "id": "6c55b713",
   "metadata": {},
   "source": [
    "**pprint function**\n",
    "\n",
    "*Pretty print function*\n",
    "The pprint module's pprint() \"pretty print\" function can display a dictionary value cleanly"
   ]
  },
  {
   "cell_type": "code",
   "execution_count": 294,
   "id": "173ccb07",
   "metadata": {},
   "outputs": [
    {
     "name": "stdout",
     "output_type": "stream",
     "text": [
      "{' ': 3, 'A': 2, 'B': 1, 'E': 1, 'F': 1, 'G': 1, 'H': 1, 'I': 1, 'N': 1, 'T': 1}\n"
     ]
    }
   ],
   "source": [
    "import pprint\n",
    "\n",
    "m = 'a big fat hen'\n",
    "\n",
    "count = {}\n",
    "\n",
    "for character in m.upper():\n",
    "    count.setdefault(character, 0)\n",
    "    count[character] += 1\n",
    "\n",
    "pprint.pprint(count)"
   ]
  },
  {
   "cell_type": "markdown",
   "id": "7730031c",
   "metadata": {},
   "source": [
    "**pprint format**\n",
    "\n",
    "*The pformat() function returns a string value of this output.*"
   ]
  },
  {
   "cell_type": "code",
   "execution_count": 302,
   "id": "a1cb505a",
   "metadata": {},
   "outputs": [
    {
     "data": {
      "text/plain": [
       "\"{' ': 3, 'A': 2, 'B': 1, 'E': 1, 'F': 1, 'G': 1, 'H': 1, 'I': 1, 'N': 1, 'T': 1}\""
      ]
     },
     "execution_count": 302,
     "metadata": {},
     "output_type": "execute_result"
    }
   ],
   "source": [
    "m = 'a big fat hen'\n",
    "\n",
    "count = {}\n",
    "\n",
    "for character in m.upper():\n",
    "    count.setdefault(character, 0)\n",
    "    count[character] += 1\n",
    "\n",
    "pprint.pformat(count)"
   ]
  },
  {
   "cell_type": "markdown",
   "id": "952e0937",
   "metadata": {},
   "source": [
    "### Lesson 18: Data Structures"
   ]
  },
  {
   "cell_type": "code",
   "execution_count": 349,
   "id": "023f660f",
   "metadata": {},
   "outputs": [],
   "source": [
    "#Tic Tac Toe Game\n",
    "\n",
    "theboard = {\n",
    "'top-L' : 'O',\n",
    "'top-M' : 'X',\n",
    "'top-R' : 'O',\n",
    "'mid-L' : 'O',\n",
    "'mid-M' : 'X',\n",
    "'mid-R' : 'X',\n",
    "'low-L' : 'X',\n",
    "'low-M' : 'O',\n",
    "'low-R' : 'O'\n",
    "}"
   ]
  },
  {
   "cell_type": "code",
   "execution_count": 350,
   "id": "f0cd83b3",
   "metadata": {},
   "outputs": [],
   "source": [
    "def printboard(x):\n",
    "    print(x['top-L'] + '|' + x['top-M'] + '|' + x['top-R'])\n",
    "    print('-----')\n",
    "    print(x['mid-L'] + '|' + x['mid-M'] + '|' + x['mid-R'])\n",
    "    print('-----')\n",
    "    print(x['low-L'] + '|' + x['low-M'] + '|' + x['low-R'])"
   ]
  },
  {
   "cell_type": "code",
   "execution_count": 351,
   "id": "8bc0a947",
   "metadata": {},
   "outputs": [
    {
     "name": "stdout",
     "output_type": "stream",
     "text": [
      "O|X|O\n",
      "-----\n",
      "O|X|X\n",
      "-----\n",
      "X|O|O\n"
     ]
    }
   ],
   "source": [
    "printboard(theboard)"
   ]
  },
  {
   "cell_type": "markdown",
   "id": "8aef831e",
   "metadata": {},
   "source": [
    "**type Function**"
   ]
  },
  {
   "cell_type": "code",
   "execution_count": 348,
   "id": "60563911",
   "metadata": {},
   "outputs": [
    {
     "name": "stdout",
     "output_type": "stream",
     "text": [
      "<class 'int'>\n",
      "<class 'str'>\n",
      "<class 'float'>\n",
      "<class 'complex'>\n",
      "<class 'bool'>\n"
     ]
    }
   ],
   "source": [
    "print(type(6))\n",
    "print(type('ab'))\n",
    "print(type(1.2))\n",
    "print(type(2j))\n",
    "print(type(True))"
   ]
  },
  {
   "cell_type": "markdown",
   "id": "2031f263",
   "metadata": {},
   "source": [
    "## VIII. More about Strings"
   ]
  },
  {
   "cell_type": "markdown",
   "id": "a46aaa1a",
   "metadata": {},
   "source": [
    "### Lesson 19: Advanced String Syntax\n",
    "\n",
    "* Strings are enclosed by a pair of single quotes or double quotes (as long as the same kind are used).\n",
    "* Escape characters let you put quotes and other characters that are hard to type inside strings.\n",
    "* Raw strings (which have the r prefix before the first quote) will literally print any backslashes in the string and ignore escape characters.\n",
    "* Multiline strings begin and end with three quotes, and can span multiple lines.\n",
    "* Indexes, slices, and the \"in\" and \"not in\" operators all work with strings."
   ]
  },
  {
   "cell_type": "code",
   "execution_count": 355,
   "id": "6ced778d",
   "metadata": {},
   "outputs": [
    {
     "data": {
      "text/plain": [
       "\"that is alice's cat\""
      ]
     },
     "execution_count": 355,
     "metadata": {},
     "output_type": "execute_result"
    }
   ],
   "source": [
    "#escape character\n",
    "\n",
    "'that is alice\\'s cat'"
   ]
  },
  {
   "attachments": {
    "image.png": {
     "image/png": "[encoded data removed]"
    }
   },
   "cell_type": "markdown",
   "id": "73bf6661",
   "metadata": {},
   "source": [
    "![image.png](attachment:image.png)"
   ]
  },
  {
   "cell_type": "code",
   "execution_count": 360,
   "id": "687bee3c",
   "metadata": {},
   "outputs": [
    {
     "name": "stdout",
     "output_type": "stream",
     "text": [
      "Hey\n",
      "How are you\n",
      "How is everything going\n"
     ]
    }
   ],
   "source": [
    "# new line\n",
    "\n",
    "print('Hey\\nHow are you\\nHow is everything going')"
   ]
  },
  {
   "cell_type": "markdown",
   "id": "c39ad1ce",
   "metadata": {},
   "source": [
    "**raw string**"
   ]
  },
  {
   "cell_type": "code",
   "execution_count": 363,
   "id": "30cb3982",
   "metadata": {},
   "outputs": [
    {
     "name": "stdout",
     "output_type": "stream",
     "text": [
      "Hey\\nHow are you\\nHow is everything going\n"
     ]
    }
   ],
   "source": [
    "# raw string helps us literally print even escape characters\n",
    "\n",
    "print(r'Hey\\nHow are you\\nHow is everything going') #raw character"
   ]
  },
  {
   "cell_type": "markdown",
   "id": "4e42f11d",
   "metadata": {},
   "source": [
    "**multiple line string**"
   ]
  },
  {
   "cell_type": "code",
   "execution_count": 367,
   "id": "5b4b7500",
   "metadata": {},
   "outputs": [
    {
     "name": "stdout",
     "output_type": "stream",
     "text": [
      "This is useful for really \n",
      "really\n",
      "large string\n"
     ]
    }
   ],
   "source": [
    "print(\"\"\"This is useful for really \n",
    "really\n",
    "large string\"\"\")"
   ]
  },
  {
   "cell_type": "markdown",
   "id": "4040ba04",
   "metadata": {},
   "source": [
    "**Similarities between lists and strings**"
   ]
  },
  {
   "cell_type": "code",
   "execution_count": 381,
   "id": "e54fa2ef",
   "metadata": {},
   "outputs": [
    {
     "data": {
      "text/plain": [
       "True"
      ]
     },
     "execution_count": 381,
     "metadata": {},
     "output_type": "execute_result"
    }
   ],
   "source": [
    "spam = 'Hello world'\n",
    "\n",
    "spam[0] #same indexing\n",
    "spam[0:6] #same slicing\n",
    "'Hello' in spam #Membership also works"
   ]
  },
  {
   "cell_type": "markdown",
   "id": "39cf4a54",
   "metadata": {},
   "source": [
    "### Lesson 20: String Methods\n",
    "\n",
    "* upper() and lower() return an uppercase or lowercase string.\n",
    "* isupper(), islower(), isalpha(), isalnum(), isdecimal(), isspace(), istitle() returns True or False if the string is that uppercase, lowercase, alphabetical letters, and so on.\n",
    "* startswith() and endswith() also return bools.\n",
    "* ‘,'.join([‘cat', ‘dog']) returns a string that combines the strings in the given list.\n",
    "* ‘Hello world'.split() returns a list of strings split from the string it's called on.\n",
    "* rjust() ,ljust(), center() returns a string padded with spaces.\n",
    "* strip(), rstrip(), lstrip() returns a string with whitespace stripped off the sides.\n",
    "* replace() will replace all occurrences of the first string argument with the second string argument."
   ]
  },
  {
   "cell_type": "code",
   "execution_count": 388,
   "id": "a13613ca",
   "metadata": {},
   "outputs": [
    {
     "name": "stdout",
     "output_type": "stream",
     "text": [
      "HELLO WORLD\n",
      "hello world\n"
     ]
    }
   ],
   "source": [
    "x = 'Hello world'\n",
    "\n",
    "print(x.upper())\n",
    "print(x.lower())"
   ]
  },
  {
   "cell_type": "code",
   "execution_count": 399,
   "id": "32a49f3f",
   "metadata": {},
   "outputs": [
    {
     "name": "stdout",
     "output_type": "stream",
     "text": [
      "do you wana code? YES\n",
      "Thanks for help!\n"
     ]
    }
   ],
   "source": [
    "# Solving Case of input\n",
    "\n",
    "x = input('do you wana code? ')\n",
    "\n",
    "if x.lower() == 'yes':\n",
    "    print('Thanks for help!')"
   ]
  },
  {
   "cell_type": "code",
   "execution_count": 402,
   "id": "8c3e3263",
   "metadata": {},
   "outputs": [
    {
     "data": {
      "text/plain": [
       "False"
      ]
     },
     "execution_count": 402,
     "metadata": {},
     "output_type": "execute_result"
    }
   ],
   "source": [
    "# isupper\n",
    "\n",
    "x = 'Hello world'\n",
    "x.isupper()"
   ]
  },
  {
   "cell_type": "code",
   "execution_count": 406,
   "id": "63bdbcc7",
   "metadata": {},
   "outputs": [
    {
     "data": {
      "text/plain": [
       "True"
      ]
     },
     "execution_count": 406,
     "metadata": {},
     "output_type": "execute_result"
    }
   ],
   "source": [
    "# isalpha means is alphabetical : to check if any integers are in string\n",
    "\n",
    "x = 'Helloworld'\n",
    "x.isalpha()"
   ]
  },
  {
   "cell_type": "code",
   "execution_count": 408,
   "id": "1d139a3e",
   "metadata": {},
   "outputs": [
    {
     "data": {
      "text/plain": [
       "True"
      ]
     },
     "execution_count": 408,
     "metadata": {},
     "output_type": "execute_result"
    }
   ],
   "source": [
    "# isalnum means is alphanumerical\n",
    "\n",
    "x = 'Helloworld12'\n",
    "x.isalnum()"
   ]
  },
  {
   "cell_type": "code",
   "execution_count": 418,
   "id": "a24a3f6a",
   "metadata": {},
   "outputs": [
    {
     "data": {
      "text/plain": [
       "True"
      ]
     },
     "execution_count": 418,
     "metadata": {},
     "output_type": "execute_result"
    }
   ],
   "source": [
    "# isspace : To find space in strings\n",
    "\n",
    "x = ' '\n",
    "x.isspace()"
   ]
  },
  {
   "cell_type": "code",
   "execution_count": 423,
   "id": "4bb12d37",
   "metadata": {},
   "outputs": [
    {
     "name": "stdout",
     "output_type": "stream",
     "text": [
      "True\n",
      "True\n"
     ]
    }
   ],
   "source": [
    "# Start with , End with\n",
    "\n",
    "print('Helloword'.startswith('H'))\n",
    "print('Helloword'.endswith('d'))"
   ]
  },
  {
   "cell_type": "code",
   "execution_count": 440,
   "id": "ddb31375",
   "metadata": {},
   "outputs": [
    {
     "name": "stdout",
     "output_type": "stream",
     "text": [
      "sleeping eating beat\n",
      "sleep\n",
      "\n",
      "eat\n",
      "\n",
      "beat\n"
     ]
    }
   ],
   "source": [
    "# Join String\n",
    "\n",
    "print('ing '.join(['sleep', 'eat', 'beat']))\n",
    "\n",
    "print('\\n\\n'.join(['sleep', 'eat', 'beat']))"
   ]
  },
  {
   "cell_type": "code",
   "execution_count": 443,
   "id": "41c9473c",
   "metadata": {},
   "outputs": [
    {
     "data": {
      "text/plain": [
       "['There is a data', ' trick']"
      ]
     },
     "execution_count": 443,
     "metadata": {},
     "output_type": "execute_result"
    }
   ],
   "source": [
    "# Split String\n",
    "\n",
    "'There is a data, trick'.split(',')"
   ]
  },
  {
   "cell_type": "code",
   "execution_count": null,
   "id": "870b897f",
   "metadata": {},
   "outputs": [],
   "source": [
    "# Strip String\n",
    "\n",
    "x = ' There '\n",
    "print(x.strip())\n",
    "\n",
    "# lstrip = left strip\n",
    "\n",
    "y = ' There '\n",
    "print(y.lstrip())\n",
    "\n",
    "# rstrip = right strip\n",
    "\n",
    "z = ' There '\n",
    "print(z.rstrip())"
   ]
  },
  {
   "cell_type": "code",
   "execution_count": 454,
   "id": "2ab9424d",
   "metadata": {},
   "outputs": [
    {
     "data": {
      "text/plain": [
       "'Hey There'"
      ]
     },
     "execution_count": 454,
     "metadata": {},
     "output_type": "execute_result"
    }
   ],
   "source": [
    "# Replace String\n",
    "\n",
    "x = 'Hello There'\n",
    "\n",
    "x.replace('Hello', 'Hey')"
   ]
  },
  {
   "cell_type": "markdown",
   "id": "54b14689",
   "metadata": {},
   "source": [
    "### Lesson 21: String Formatting"
   ]
  },
  {
   "cell_type": "code",
   "execution_count": 460,
   "id": "9ddc4a70",
   "metadata": {},
   "outputs": [
    {
     "data": {
      "text/plain": [
       "' I think I know u, Are u Tajamul from Main colony'"
      ]
     },
     "execution_count": 460,
     "metadata": {},
     "output_type": "execute_result"
    }
   ],
   "source": [
    "name = 'Tajamul'\n",
    "address = 'Main colony'\n",
    "\n",
    "f' I think I know u, Are u {name} from {address}'"
   ]
  }
 ],
 "metadata": {
  "kernelspec": {
   "display_name": "Python 3 (ipykernel)",
   "language": "python",
   "name": "python3"
  },
  "language_info": {
   "codemirror_mode": {
    "name": "ipython",
    "version": 3
   },
   "file_extension": ".py",
   "mimetype": "text/x-python",
   "name": "python",
   "nbconvert_exporter": "python",
   "pygments_lexer": "ipython3",
   "version": "3.11.5"
  }
 },
 "nbformat": 4,
 "nbformat_minor": 5
}
